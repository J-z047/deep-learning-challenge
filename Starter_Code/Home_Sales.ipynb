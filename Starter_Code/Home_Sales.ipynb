{
 "cells": [
  {
   "cell_type": "code",
   "execution_count": null,
   "metadata": {},
   "outputs": [],
   "source": [
    "from pyspark.sql import SparkSession\n",
    "from pyspark.sql.functions import col\n",
    "from pyspark.sql import functions as F\n",
    "import time"
   ]
  },
  {
   "cell_type": "code",
   "execution_count": null,
   "metadata": {},
   "outputs": [],
   "source": [
    "\n",
    "# Create a SparkSession\n",
    "spark = SparkSession.builder.appName(\"Home_Sales_Analysis\").getOrCreate()\n"
   ]
  },
  {
   "cell_type": "code",
   "execution_count": null,
   "metadata": {},
   "outputs": [],
   "source": [
    "# Load the home sales data into a DataFrame\n",
    "url = \"https://static.bc-edx.com/data/dl-1-2/m21/lms/starter/charity_data.csv\"\n",
    "application_df = spark.read.csv(url, header=True, inferSchema=True)"
   ]
  },
  {
   "cell_type": "code",
   "execution_count": null,
   "metadata": {},
   "outputs": [],
   "source": [
    "# Drop the non-beneficial ID columns, 'EIN' and 'NAME'.\n",
    "application_df = application_df.drop(\"EIN\", \"NAME\")"
   ]
  },
  {
   "cell_type": "code",
   "execution_count": null,
   "metadata": {},
   "outputs": [],
   "source": [
    "# Cache the DataFrame\n",
    "application_df.cache()"
   ]
  },
  {
   "cell_type": "code",
   "execution_count": null,
   "metadata": {},
   "outputs": [],
   "source": [
    "# Part 1: Run the query on the cached data and determine the runtime\n",
    "start_time_cached = time.time()\n"
   ]
  },
  {
   "cell_type": "code",
   "execution_count": null,
   "metadata": {},
   "outputs": [],
   "source": [
    "query_cached = \"\"\"\n",
    "SELECT ROUND(AVG(view), 2) AS average_view\n",
    "FROM home_sales\n",
    "WHERE price >= 350000\n",
    "\"\"\""
   ]
  },
  {
   "cell_type": "code",
   "execution_count": null,
   "metadata": {},
   "outputs": [],
   "source": [
    "result_cached = spark.sql(query_cached)\n",
    "result_cached.show()\n",
    "\n",
    "end_time_cached = time.time()\n",
    "run_time_cached = round(end_time_cached - start_time_cached, 2)\n",
    "print(\"Run time for cached query:\", run_time_cached, \"seconds\")\n"
   ]
  },
  {
   "cell_type": "code",
   "execution_count": null,
   "metadata": {},
   "outputs": [],
   "source": [
    "# Save the DataFrame to Parquet format\n",
    "application_df.write.partitionBy(\"year_built\").parquet(\"formatted_home_sales.parquet\")\n",
    "\n",
    "# Create a temporary table for the Parquet data\n",
    "parquet_df = spark.read.parquet(\"formatted_home_sales.parquet\")\n",
    "parquet_df.createOrReplaceTempView(\"parquet_home_sales\")\n"
   ]
  },
  {
   "cell_type": "code",
   "execution_count": null,
   "metadata": {},
   "outputs": [],
   "source": [
    "# Part 2: Run the query on the Parquet data and determine the runtime\n",
    "start_time_parquet = time.time()\n"
   ]
  },
  {
   "cell_type": "code",
   "execution_count": null,
   "metadata": {},
   "outputs": [],
   "source": [
    "query_parquet = \"\"\"\n",
    "SELECT ROUND(AVG(view), 2) AS average_view\n",
    "FROM parquet_home_sales\n",
    "WHERE price >= 350000\n",
    "\"\"\"\n",
    "result_parquet = spark.sql(query_parquet)\n",
    "result_parquet.show()\n",
    "\n",
    "end_time_parquet = time.time()\n",
    "run_time_parquet = round(end_time_parquet - start_time_parquet, 2)\n",
    "print(\"Run time for Parquet query:\", run_time_parquet, \"seconds\")\n"
   ]
  },
  {
   "cell_type": "code",
   "execution_count": null,
   "metadata": {},
   "outputs": [],
   "source": [
    "# Uncache the home_sales temporary table\n",
    "application_df.unpersist()\n",
    "\n",
    "# Verify that the home_sales temporary table is uncached\n",
    "is_cached = spark.catalog.isCached(\"home_sales\")\n",
    "print(\"Is home_sales cached?\", is_cached)"
   ]
  }
 ],
 "metadata": {
  "kernelspec": {
   "display_name": "Python 3",
   "language": "python",
   "name": "python3"
  },
  "language_info": {
   "codemirror_mode": {
    "name": "ipython",
    "version": 3
   },
   "file_extension": ".py",
   "mimetype": "text/x-python",
   "name": "python",
   "nbconvert_exporter": "python",
   "pygments_lexer": "ipython3",
   "version": "3.11.4"
  },
  "orig_nbformat": 4
 },
 "nbformat": 4,
 "nbformat_minor": 2
}
